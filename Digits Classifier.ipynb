{
 "cells": [
  {
   "cell_type": "markdown",
   "metadata": {},
   "source": [
    "# Building a Handwritten Digits Classifier"
   ]
  },
  {
   "cell_type": "markdown",
   "metadata": {},
   "source": [
    "Deep neural networks are being leveraged today for a variety of tasks. One such task is image classification. Image classification is difficult because each image highly dimensional and each pixel represents a feature. Thus, for high-resolution images, there can be millions of features. This requires a lot of computational power. To combat this, images are downplayed to lower resolutions. Deep neural networks can circumvent this issue through their ability to recognize complex nonlinear relationships.\n",
    "\n",
    "In this project, I will create a deep neural network to classify images in the hand-written digits dataset by UCI, which is pre-loaded in the Scikit-Learn library. I will evaluate the models in this project using the accuracy scores."
   ]
  },
  {
   "cell_type": "code",
   "execution_count": 1,
   "metadata": {},
   "outputs": [],
   "source": [
    "from sklearn.datasets import load_digits\n",
    "import pandas as pd\n",
    "import numpy as np\n",
    "import matplotlib.pyplot as plt\n",
    "\n",
    "from sklearn.neighbors import KNeighborsClassifier\n",
    "from sklearn.model_selection import KFold\n",
    "from sklearn.model_selection import cross_val_score\n",
    "from sklearn.neural_network import MLPClassifier\n",
    "\n",
    "import warnings\n",
    "warnings.simplefilter('ignore')\n",
    "\n",
    "digits = load_digits()"
   ]
  },
  {
   "cell_type": "code",
   "execution_count": 2,
   "metadata": {},
   "outputs": [
    {
     "data": {
      "text/plain": [
       "dict_keys(['data', 'target', 'target_names', 'images', 'DESCR'])"
      ]
     },
     "execution_count": 2,
     "metadata": {},
     "output_type": "execute_result"
    }
   ],
   "source": [
    "digits.keys()"
   ]
  },
  {
   "cell_type": "markdown",
   "metadata": {},
   "source": [
    "Below I convert the data into a dataframe and the labels into a series. "
   ]
  },
  {
   "cell_type": "code",
   "execution_count": 3,
   "metadata": {},
   "outputs": [],
   "source": [
    "data = pd.DataFrame(digits['data'])\n",
    "labels = pd.Series(digits['target'])"
   ]
  },
  {
   "cell_type": "code",
   "execution_count": 4,
   "metadata": {},
   "outputs": [
    {
     "data": {
      "text/html": [
       "<div>\n",
       "<style scoped>\n",
       "    .dataframe tbody tr th:only-of-type {\n",
       "        vertical-align: middle;\n",
       "    }\n",
       "\n",
       "    .dataframe tbody tr th {\n",
       "        vertical-align: top;\n",
       "    }\n",
       "\n",
       "    .dataframe thead th {\n",
       "        text-align: right;\n",
       "    }\n",
       "</style>\n",
       "<table border=\"1\" class=\"dataframe\">\n",
       "  <thead>\n",
       "    <tr style=\"text-align: right;\">\n",
       "      <th></th>\n",
       "      <th>0</th>\n",
       "      <th>1</th>\n",
       "      <th>2</th>\n",
       "      <th>3</th>\n",
       "      <th>4</th>\n",
       "      <th>5</th>\n",
       "      <th>6</th>\n",
       "      <th>7</th>\n",
       "      <th>8</th>\n",
       "      <th>9</th>\n",
       "      <th>...</th>\n",
       "      <th>54</th>\n",
       "      <th>55</th>\n",
       "      <th>56</th>\n",
       "      <th>57</th>\n",
       "      <th>58</th>\n",
       "      <th>59</th>\n",
       "      <th>60</th>\n",
       "      <th>61</th>\n",
       "      <th>62</th>\n",
       "      <th>63</th>\n",
       "    </tr>\n",
       "  </thead>\n",
       "  <tbody>\n",
       "    <tr>\n",
       "      <th>0</th>\n",
       "      <td>0.0</td>\n",
       "      <td>0.0</td>\n",
       "      <td>5.0</td>\n",
       "      <td>13.0</td>\n",
       "      <td>9.0</td>\n",
       "      <td>1.0</td>\n",
       "      <td>0.0</td>\n",
       "      <td>0.0</td>\n",
       "      <td>0.0</td>\n",
       "      <td>0.0</td>\n",
       "      <td>...</td>\n",
       "      <td>0.0</td>\n",
       "      <td>0.0</td>\n",
       "      <td>0.0</td>\n",
       "      <td>0.0</td>\n",
       "      <td>6.0</td>\n",
       "      <td>13.0</td>\n",
       "      <td>10.0</td>\n",
       "      <td>0.0</td>\n",
       "      <td>0.0</td>\n",
       "      <td>0.0</td>\n",
       "    </tr>\n",
       "    <tr>\n",
       "      <th>1</th>\n",
       "      <td>0.0</td>\n",
       "      <td>0.0</td>\n",
       "      <td>0.0</td>\n",
       "      <td>12.0</td>\n",
       "      <td>13.0</td>\n",
       "      <td>5.0</td>\n",
       "      <td>0.0</td>\n",
       "      <td>0.0</td>\n",
       "      <td>0.0</td>\n",
       "      <td>0.0</td>\n",
       "      <td>...</td>\n",
       "      <td>0.0</td>\n",
       "      <td>0.0</td>\n",
       "      <td>0.0</td>\n",
       "      <td>0.0</td>\n",
       "      <td>0.0</td>\n",
       "      <td>11.0</td>\n",
       "      <td>16.0</td>\n",
       "      <td>10.0</td>\n",
       "      <td>0.0</td>\n",
       "      <td>0.0</td>\n",
       "    </tr>\n",
       "    <tr>\n",
       "      <th>2</th>\n",
       "      <td>0.0</td>\n",
       "      <td>0.0</td>\n",
       "      <td>0.0</td>\n",
       "      <td>4.0</td>\n",
       "      <td>15.0</td>\n",
       "      <td>12.0</td>\n",
       "      <td>0.0</td>\n",
       "      <td>0.0</td>\n",
       "      <td>0.0</td>\n",
       "      <td>0.0</td>\n",
       "      <td>...</td>\n",
       "      <td>5.0</td>\n",
       "      <td>0.0</td>\n",
       "      <td>0.0</td>\n",
       "      <td>0.0</td>\n",
       "      <td>0.0</td>\n",
       "      <td>3.0</td>\n",
       "      <td>11.0</td>\n",
       "      <td>16.0</td>\n",
       "      <td>9.0</td>\n",
       "      <td>0.0</td>\n",
       "    </tr>\n",
       "    <tr>\n",
       "      <th>3</th>\n",
       "      <td>0.0</td>\n",
       "      <td>0.0</td>\n",
       "      <td>7.0</td>\n",
       "      <td>15.0</td>\n",
       "      <td>13.0</td>\n",
       "      <td>1.0</td>\n",
       "      <td>0.0</td>\n",
       "      <td>0.0</td>\n",
       "      <td>0.0</td>\n",
       "      <td>8.0</td>\n",
       "      <td>...</td>\n",
       "      <td>9.0</td>\n",
       "      <td>0.0</td>\n",
       "      <td>0.0</td>\n",
       "      <td>0.0</td>\n",
       "      <td>7.0</td>\n",
       "      <td>13.0</td>\n",
       "      <td>13.0</td>\n",
       "      <td>9.0</td>\n",
       "      <td>0.0</td>\n",
       "      <td>0.0</td>\n",
       "    </tr>\n",
       "    <tr>\n",
       "      <th>4</th>\n",
       "      <td>0.0</td>\n",
       "      <td>0.0</td>\n",
       "      <td>0.0</td>\n",
       "      <td>1.0</td>\n",
       "      <td>11.0</td>\n",
       "      <td>0.0</td>\n",
       "      <td>0.0</td>\n",
       "      <td>0.0</td>\n",
       "      <td>0.0</td>\n",
       "      <td>0.0</td>\n",
       "      <td>...</td>\n",
       "      <td>0.0</td>\n",
       "      <td>0.0</td>\n",
       "      <td>0.0</td>\n",
       "      <td>0.0</td>\n",
       "      <td>0.0</td>\n",
       "      <td>2.0</td>\n",
       "      <td>16.0</td>\n",
       "      <td>4.0</td>\n",
       "      <td>0.0</td>\n",
       "      <td>0.0</td>\n",
       "    </tr>\n",
       "  </tbody>\n",
       "</table>\n",
       "<p>5 rows × 64 columns</p>\n",
       "</div>"
      ],
      "text/plain": [
       "    0    1    2     3     4     5    6    7    8    9   ...   54   55   56  \\\n",
       "0  0.0  0.0  5.0  13.0   9.0   1.0  0.0  0.0  0.0  0.0  ...  0.0  0.0  0.0   \n",
       "1  0.0  0.0  0.0  12.0  13.0   5.0  0.0  0.0  0.0  0.0  ...  0.0  0.0  0.0   \n",
       "2  0.0  0.0  0.0   4.0  15.0  12.0  0.0  0.0  0.0  0.0  ...  5.0  0.0  0.0   \n",
       "3  0.0  0.0  7.0  15.0  13.0   1.0  0.0  0.0  0.0  8.0  ...  9.0  0.0  0.0   \n",
       "4  0.0  0.0  0.0   1.0  11.0   0.0  0.0  0.0  0.0  0.0  ...  0.0  0.0  0.0   \n",
       "\n",
       "    57   58    59    60    61   62   63  \n",
       "0  0.0  6.0  13.0  10.0   0.0  0.0  0.0  \n",
       "1  0.0  0.0  11.0  16.0  10.0  0.0  0.0  \n",
       "2  0.0  0.0   3.0  11.0  16.0  9.0  0.0  \n",
       "3  0.0  7.0  13.0  13.0   9.0  0.0  0.0  \n",
       "4  0.0  0.0   2.0  16.0   4.0  0.0  0.0  \n",
       "\n",
       "[5 rows x 64 columns]"
      ]
     },
     "execution_count": 4,
     "metadata": {},
     "output_type": "execute_result"
    }
   ],
   "source": [
    "data.head()"
   ]
  },
  {
   "cell_type": "markdown",
   "metadata": {},
   "source": [
    "Below I create a visualization of the dataframe."
   ]
  },
  {
   "cell_type": "code",
   "execution_count": 5,
   "metadata": {},
   "outputs": [],
   "source": [
    "first_image = data.iloc[0]\n",
    "np_image = first_image.values\n",
    "np_image = np_image.reshape(8,8)"
   ]
  },
  {
   "cell_type": "code",
   "execution_count": 6,
   "metadata": {},
   "outputs": [
    {
     "data": {
      "text/plain": [
       "<matplotlib.image.AxesImage at 0x21f999da948>"
      ]
     },
     "execution_count": 6,
     "metadata": {},
     "output_type": "execute_result"
    },
    {
     "data": {
      "image/png": "[encoded data removed]",
      "text/plain": [
       "<Figure size 432x288 with 1 Axes>"
      ]
     },
     "metadata": {
      "needs_background": "light"
     },
     "output_type": "display_data"
    }
   ],
   "source": [
    "plt.imshow(np_image, cmap='gray_r')"
   ]
  },
  {
   "cell_type": "markdown",
   "metadata": {},
   "source": [
    "Below are visualizations from sample rows from the data."
   ]
  },
  {
   "cell_type": "code",
   "execution_count": 7,
   "metadata": {
    "scrolled": true
   },
   "outputs": [
    {
     "data": {
      "text/plain": [
       "<matplotlib.image.AxesImage at 0x21f99d00fc8>"
      ]
     },
     "execution_count": 7,
     "metadata": {},
     "output_type": "execute_result"
    },
    {
     "data": {
      "image/png": "[encoded data removed]",
      "text/plain": [
       "<Figure size 432x288 with 10 Axes>"
      ]
     },
     "metadata": {
      "needs_background": "light"
     },
     "output_type": "display_data"
    }
   ],
   "source": [
    "fig, axs = plt.subplots(2,5)\n",
    "\n",
    "axs[0,0].imshow(data.iloc[0].values.reshape(8,8), cmap='gray_r')\n",
    "axs[0,1].imshow(data.iloc[99].values.reshape(8,8), cmap='gray_r')\n",
    "axs[0,2].imshow(data.iloc[199].values.reshape(8,8), cmap='gray_r')\n",
    "axs[0,3].imshow(data.iloc[299].values.reshape(8,8), cmap='gray_r')\n",
    "axs[0,4].imshow(data.iloc[399].values.reshape(8,8), cmap='gray_r')\n",
    "\n",
    "axs[1,0].imshow(data.iloc[999].values.reshape(8,8), cmap='gray_r')\n",
    "axs[1,1].imshow(data.iloc[1099].values.reshape(8,8), cmap='gray_r')\n",
    "axs[1,2].imshow(data.iloc[1199].values.reshape(8,8), cmap='gray_r')\n",
    "axs[1,3].imshow(data.iloc[1299].values.reshape(8,8), cmap='gray_r')\n",
    "axs[1,4].imshow(data.iloc[1399].values.reshape(8,8), cmap='gray_r')"
   ]
  },
  {
   "cell_type": "markdown",
   "metadata": {},
   "source": [
    "## K-Nearest Neighbors Algorithm "
   ]
  },
  {
   "cell_type": "markdown",
   "metadata": {},
   "source": [
    "The KNN algorithm is a supervised learning technique in that it uses already labeled data to make predictions about the labels of unobserved data. It uses features from the data to determine the similarity between observed and unobserved data. It is non-parametric, which means this algorithm doesn't make assumptions about the distribution of underlying data. \n",
    "\n",
    "I use this algorithm as a baseline model to determine if the results can be improved upon using neural networks. "
   ]
  },
  {
   "cell_type": "code",
   "execution_count": 8,
   "metadata": {},
   "outputs": [],
   "source": [
    "def knn_algo(k):\n",
    "    kf = KFold(5, shuffle = True, random_state = 1)\n",
    "    knn = KNeighborsClassifier(n_neighbors = k)\n",
    "    accuracy = cross_val_score(knn, data, labels, cv = kf)\n",
    "    avg_accuracy = np.mean(accuracy)\n",
    "    return avg_accuracy\n",
    "\n",
    "knn_accuracies = []\n",
    "for k in range(1,10):\n",
    "    knn_accuracies.append(knn_algo(k))"
   ]
  },
  {
   "cell_type": "code",
   "execution_count": 9,
   "metadata": {},
   "outputs": [
    {
     "name": "stdout",
     "output_type": "stream",
     "text": [
      "[0.9872005571030641, 0.9844181367997524, 0.9877592076756423, 0.9844212318167751, 0.9844181367997524, 0.9827468276075517, 0.9849721448467965, 0.9810755184153512, 0.982189724543485]\n"
     ]
    }
   ],
   "source": [
    "print(knn_accuracies)"
   ]
  },
  {
   "cell_type": "code",
   "execution_count": 10,
   "metadata": {},
   "outputs": [
    {
     "data": {
      "text/plain": [
       "Text(0.5, 1.0, 'KNN Accuracies for Values of K')"
      ]
     },
     "execution_count": 10,
     "metadata": {},
     "output_type": "execute_result"
    },
    {
     "data": {
      "image/png": "[encoded data removed]",
      "text/plain": [
       "<Figure size 432x288 with 1 Axes>"
      ]
     },
     "metadata": {
      "needs_background": "light"
     },
     "output_type": "display_data"
    }
   ],
   "source": [
    "plt.plot(range(1,10), knn_accuracies)\n",
    "plt.xlabel('k')\n",
    "plt.ylabel('Accuracies')\n",
    "plt.title('KNN Accuracies for Values of K')"
   ]
  },
  {
   "cell_type": "markdown",
   "metadata": {},
   "source": [
    "#### Summary of KNN Results"
   ]
  },
  {
   "cell_type": "markdown",
   "metadata": {},
   "source": [
    "Based on values of k ranging from 1 to 10, our results for the KNN algorithm yields about a 98% accuracy. This is a fantastic starting point; however, this means our neural networks must perform exceptionally well for us to opt for them. "
   ]
  },
  {
   "cell_type": "markdown",
   "metadata": {},
   "source": [
    "## Deep Neural Networks "
   ]
  },
  {
   "cell_type": "markdown",
   "metadata": {},
   "source": [
    "Artificial neural networks are inspired by the how the neurons in our brain our connected and work together. Deep neural networks are a type of artificial neural network that has many layers (hence, the term deep). There is an input layer, one or more hidden layers, and output layer. The layers are made of neurons, and they are connected by edges (which have particular weights or biases). Each layer after the input layers consists of neurons which are a linear combination of the neurons in the previous layer. This is to capture the nonlinearity in data. \n",
    "\n",
    "There still isn't a scientific method to determining the number of neurons per hidden layer or the number of hidden layers. So, for now, it is more of an art, and different parameters and hyperparameters should be tested. "
   ]
  },
  {
   "cell_type": "markdown",
   "metadata": {},
   "source": [
    "### Neural Network (One Hidden Layer)"
   ]
  },
  {
   "cell_type": "code",
   "execution_count": 11,
   "metadata": {},
   "outputs": [],
   "source": [
    "def nn_one_model(n):\n",
    "    kf = KFold(5, shuffle = True, random_state = 1)\n",
    "    nn_one = MLPClassifier(hidden_layer_sizes = (n,))\n",
    "    accuracy = cross_val_score(nn_one, data, labels, cv = kf)\n",
    "    avg_accuracy = np.mean(accuracy)\n",
    "    return avg_accuracy\n",
    "\n",
    "neurons = [8, 16, 32, 64, 128, 256]\n",
    "nn_one_accuracies = []\n",
    "for n in neurons:\n",
    "    nn_one_accuracies.append(nn_one_model(n))"
   ]
  },
  {
   "cell_type": "code",
   "execution_count": 12,
   "metadata": {
    "scrolled": true
   },
   "outputs": [
    {
     "name": "stdout",
     "output_type": "stream",
     "text": [
      "[0.8825317239244816, 0.954942742185082, 0.9643964716805942, 0.9755153203342617, 0.974405756731662, 0.9827499226245744]\n"
     ]
    }
   ],
   "source": [
    "print(nn_one_accuracies)"
   ]
  },
  {
   "cell_type": "code",
   "execution_count": 13,
   "metadata": {},
   "outputs": [
    {
     "data": {
      "text/plain": [
       "Text(0.5, 1.0, 'NN (One Hidden Layer) Accuracies\\nfor Values of n')"
      ]
     },
     "execution_count": 13,
     "metadata": {},
     "output_type": "execute_result"
    },
    {
     "data": {
      "image/png": "[encoded data removed]",
      "text/plain": [
       "<Figure size 432x288 with 1 Axes>"
      ]
     },
     "metadata": {
      "needs_background": "light"
     },
     "output_type": "display_data"
    }
   ],
   "source": [
    "plt.plot(neurons, nn_one_accuracies)\n",
    "plt.xlabel('# of Neurons')\n",
    "plt.ylabel('Accuracy')\n",
    "plt.title('NN (One Hidden Layer) Accuracies\\nfor Values of n')"
   ]
  },
  {
   "cell_type": "markdown",
   "metadata": {},
   "source": [
    "#### Summary of NN with One Hidden Layer"
   ]
  },
  {
   "cell_type": "markdown",
   "metadata": {},
   "source": [
    "As can be seen in the graph above, the neural network with one hidden layer performs better with more neurons. The neural network with 256 neurons in the hidden layer has approximately 97.27% accuracy. There isn't any improvement in performance given one hidden layer. Let's explore a model with two hidden layers to see if there are any noticeable improvements. "
   ]
  },
  {
   "cell_type": "markdown",
   "metadata": {},
   "source": [
    "### Neural Network (Two Hidden Layers)"
   ]
  },
  {
   "cell_type": "code",
   "execution_count": 14,
   "metadata": {},
   "outputs": [],
   "source": [
    "def nn_two_model(n):\n",
    "    kf = KFold(5, shuffle = True, random_state = 1)\n",
    "    nn_two = MLPClassifier(hidden_layer_sizes = (n,n))\n",
    "    accuracy = cross_val_score(nn_two, data, labels, cv = kf)\n",
    "    avg_accuracy = np.mean(accuracy)\n",
    "    return avg_accuracy\n",
    "\n",
    "neurons = [8, 16, 32, 64, 128, 256]\n",
    "nn_two_accuracies = []\n",
    "for n in neurons:\n",
    "    nn_two_accuracies.append(nn_two_model(n))"
   ]
  },
  {
   "cell_type": "code",
   "execution_count": 15,
   "metadata": {},
   "outputs": [
    {
     "name": "stdout",
     "output_type": "stream",
     "text": [
      "[0.9026354069947384, 0.9471371092541009, 0.975526152893841, 0.9760755184153513, 0.9766295264623956, 0.9810817084493966]\n"
     ]
    }
   ],
   "source": [
    "print(nn_two_accuracies)"
   ]
  },
  {
   "cell_type": "code",
   "execution_count": 16,
   "metadata": {},
   "outputs": [
    {
     "data": {
      "text/plain": [
       "Text(0.5, 1.0, 'NN (Two Hidden Layer) Accuracies\\nfor Values of n')"
      ]
     },
     "execution_count": 16,
     "metadata": {},
     "output_type": "execute_result"
    },
    {
     "data": {
      "image/png": "[encoded data removed]",
      "text/plain": [
       "<Figure size 432x288 with 1 Axes>"
      ]
     },
     "metadata": {
      "needs_background": "light"
     },
     "output_type": "display_data"
    }
   ],
   "source": [
    "plt.plot(neurons, nn_two_accuracies)\n",
    "plt.xlabel('# of neurons')\n",
    "plt.ylabel('Accuracies')\n",
    "plt.title('NN (Two Hidden Layer) Accuracies\\nfor Values of n')"
   ]
  },
  {
   "cell_type": "markdown",
   "metadata": {},
   "source": [
    "#### Summary of NN with Two Hidden Layers "
   ]
  },
  {
   "cell_type": "markdown",
   "metadata": {},
   "source": [
    "Compared to the NN with one hidden layer, this model doesn't perform much better either. This model achieves its highest accuracy with 128 neurons: 98.11%."
   ]
  },
  {
   "cell_type": "markdown",
   "metadata": {},
   "source": [
    "### Neural Network (Three Hidden Layers) "
   ]
  },
  {
   "cell_type": "code",
   "execution_count": 17,
   "metadata": {},
   "outputs": [],
   "source": [
    "def nn_three_model(n):\n",
    "    kf = KFold(5, shuffle = True, random_state = 1)\n",
    "    nn_three = MLPClassifier(hidden_layer_sizes = (n,n,n))\n",
    "    accuracy = cross_val_score(nn_three, data, labels, cv = kf)\n",
    "    avg_accuracy = np.mean(accuracy)\n",
    "    return avg_accuracy\n",
    "\n",
    "neurons = [10, 64, 128, 256]\n",
    "nn_three_accuracies = []\n",
    "for n in neurons:\n",
    "    nn_three_accuracies.append(nn_three_model(n))"
   ]
  },
  {
   "cell_type": "code",
   "execution_count": 18,
   "metadata": {},
   "outputs": [
    {
     "name": "stdout",
     "output_type": "stream",
     "text": [
      "[0.909843701640359, 0.9749628597957288, 0.9766279789538842, 0.9805292479108635]\n"
     ]
    }
   ],
   "source": [
    "print(nn_three_accuracies)"
   ]
  },
  {
   "cell_type": "code",
   "execution_count": 19,
   "metadata": {},
   "outputs": [
    {
     "data": {
      "text/plain": [
       "Text(0.5, 1.0, 'NN (Three Hidden Layer) Accuracies\\nfor Values of n')"
      ]
     },
     "execution_count": 19,
     "metadata": {},
     "output_type": "execute_result"
    },
    {
     "data": {
      "image/png": "[encoded data removed]",
      "text/plain": [
       "<Figure size 432x288 with 1 Axes>"
      ]
     },
     "metadata": {
      "needs_background": "light"
     },
     "output_type": "display_data"
    }
   ],
   "source": [
    "plt.plot(neurons, nn_three_accuracies)\n",
    "plt.xlabel('# or neurons')\n",
    "plt.ylabel('Accuracies')\n",
    "plt.title('NN (Three Hidden Layer) Accuracies\\nfor Values of n')"
   ]
  },
  {
   "cell_type": "markdown",
   "metadata": {},
   "source": [
    "#### Summary of NN with Three Hidden Layers"
   ]
  },
  {
   "cell_type": "markdown",
   "metadata": {},
   "source": [
    "Finally, we employ an NN model with three hidden layers. This model achieved its highest accuracy with 256 neurons in each hidden layer: 98.05%. Again, the performance is great, but not noticeably better than the results from the KNN algorithm.\n",
    "\n",
    "As mentioned earlier, determining the parameters, hyperparameters, and type of activation functions, is an art more than a science (as for now). Similar to a Decision Tree or Random Forest model, we have to go about a number of trials to determine the \"right\" model."
   ]
  }
 ],
 "metadata": {
  "kernelspec": {
   "display_name": "Python 3",
   "language": "python",
   "name": "python3"
  },
  "language_info": {
   "codemirror_mode": {
    "name": "ipython",
    "version": 3
   },
   "file_extension": ".py",
   "mimetype": "text/x-python",
   "name": "python",
   "nbconvert_exporter": "python",
   "pygments_lexer": "ipython3",
   "version": "3.7.6"
  }
 },
 "nbformat": 4,
 "nbformat_minor": 4
}
